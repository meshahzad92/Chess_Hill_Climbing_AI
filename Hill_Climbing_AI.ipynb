{
  "cells": [
    {
      "cell_type": "code",
      "execution_count": 37,
      "metadata": {
        "id": "stEAdddFWzt1"
      },
      "outputs": [],
      "source": [
        "# Python3 implementation of the\n",
        "from random import randint\n",
        "\n",
        "N = 8\n",
        "\n",
        "# A utility function that configures the 2D array \"board\" and array \"state\" randomly to provide a starting point for the algorithm.\n",
        "def configureRandomly(board, state):\n",
        "\n",
        "\t# Iterating through the column indices\n",
        "\tfor i in range(N):\n",
        "\n",
        "\t\t# Getting a random row index\n",
        "\t\tstate[i] = randint(0, 100000) % N\n",
        "\n",
        "\t\t# Placing a queen on the obtained place in chessboard.\n",
        "\t\tboard[state[i]][i] = 1\n",
        "\n",
        "# A utility function that prints the 2D array \"board\".\n",
        "def printBoard(board):\n",
        "\n",
        "\tfor i in range(N):\n",
        "\t\tprint(*board[i])\n",
        "\n",
        "# A utility function that prints the array \"state\".\n",
        "def printState( state):\n",
        "\tprint(*state)\n",
        "\n",
        "# A utility function that compares two arrays, state1 and state2 and returns True if equal and False otherwise.\n",
        "def compareStates(state1, state2):\n",
        "\n",
        "\n",
        "\tfor i in range(N):\n",
        "\t\tif (state1[i] != state2[i]):\n",
        "\t\t\treturn False\n",
        "\n",
        "\treturn True\n",
        "\n",
        "# A utility function that fills the 2D array \"board\" with values \"value\"\n",
        "def fill(board, value):\n",
        "\n",
        "\tfor i in range(N):\n",
        "\t\tfor j in range(N):\n",
        "\t\t\tboard[i][j] = value"
      ]
    },
    {
      "cell_type": "code",
      "execution_count": 38,
      "metadata": {
        "id": "Y_HRwAdgY0vz"
      },
      "outputs": [],
      "source": [
        "def calculateObjective(board, state):\n",
        "    attacks = 0\n",
        "    for i in range(N):\n",
        "        for j in range(i+1, N):\n",
        "            # Same row or diagonal check\n",
        "            if state[i] == state[j] or abs(state[i] - state[j]) == abs(i - j):\n",
        "                attacks += 1\n",
        "    return attacks"
      ]
    },
    {
      "cell_type": "code",
      "execution_count": 39,
      "metadata": {
        "id": "ZbdnqKida1Uu"
      },
      "outputs": [],
      "source": [
        "# A utility function that generates a board configuration given the state.\n",
        "def generateBoard( board, state):\n",
        "\tfill(board, 0)\n",
        "\tfor i in range(N):\n",
        "\t\tboard[state[i]][i] = 1\n",
        "\n",
        "# A utility function that copies contents of state2 to state1.\n",
        "def copyState( state1, state2):\n",
        "\n",
        "\tfor i in range(N):\n",
        "\t\tstate1[i] = state2[i]"
      ]
    },
    {
      "cell_type": "code",
      "execution_count": 40,
      "metadata": {
        "id": "KyPW6_KlavpJ"
      },
      "outputs": [],
      "source": [
        "def getNeighbour(board, state):\n",
        "\n",
        "    optimalState = state.copy()\n",
        "    optimalBoard = [row.copy() for row in board]\n",
        "    minObjective = calculateObjective(board, state)\n",
        "\n",
        "    for i in range(N):\n",
        "        for j in range(N):\n",
        "            if j != state[i]:  # Skip the current row\n",
        "                newState = state.copy()\n",
        "                newState[i] = j\n",
        "                newBoard = [row.copy() for row in board]\n",
        "                generateBoard(newBoard, newState)\n",
        "                newObjective = calculateObjective(newBoard, newState)\n",
        "                if newObjective < minObjective:\n",
        "                    minObjective = newObjective\n",
        "                    optimalState = newState.copy()\n",
        "                    optimalBoard = [row.copy() for row in newBoard]\n",
        "\n",
        "    return optimalBoard, optimalState, minObjective"
      ]
    },
    {
      "cell_type": "code",
      "execution_count": 41,
      "metadata": {
        "id": "a-EkMJVBZN0B"
      },
      "outputs": [],
      "source": [
        "def hillClimbing(board, state):\n",
        "    currentBoard = [row.copy() for row in board]\n",
        "    currentState = state.copy()\n",
        "    currentObjective = calculateObjective(currentBoard, currentState)\n",
        "\n",
        "    while True:\n",
        "        neighbourBoard, neighbourState, neighbourObjective = getNeighbour(currentBoard, currentState)\n",
        "        if neighbourObjective >= currentObjective:\n",
        "            # No better neighbour found, terminate\n",
        "            break\n",
        "        currentBoard = [row.copy() for row in neighbourBoard]\n",
        "        currentState = neighbourState.copy()\n",
        "        currentObjective = neighbourObjective\n",
        "\n",
        "    print(\"Final Board Configuration:\")\n",
        "    printBoard(currentBoard)\n",
        "    print(\"Final State:\", currentState)\n",
        "    print(\"Number of attacking pairs:\", currentObjective)\n",
        "\n"
      ]
    },
    {
      "cell_type": "code",
      "execution_count": 42,
      "metadata": {
        "id": "y70r8DqtZH9u",
        "outputId": "5d863ae8-7252-44d3-8b2e-4c88b383aeb3",
        "colab": {
          "base_uri": "https://localhost:8080/"
        }
      },
      "outputs": [
        {
          "output_type": "stream",
          "name": "stdout",
          "text": [
            "Final Board Configuration:\n",
            "0 0 0 1 0 0 0 0\n",
            "0 0 0 0 0 0 1 0\n",
            "0 0 1 0 0 0 0 0\n",
            "1 0 0 0 0 0 0 0\n",
            "0 0 0 0 0 1 0 0\n",
            "0 0 0 0 0 0 0 1\n",
            "0 0 0 0 1 0 0 0\n",
            "0 1 0 0 0 0 0 0\n",
            "Final State: [3, 7, 2, 0, 6, 4, 1, 5]\n",
            "Number of attacking pairs: 1\n"
          ]
        }
      ],
      "source": [
        "# Driver code\n",
        "state = [0] * N\n",
        "board = [[0 for _ in range(N)] for _ in range(N)]\n",
        "\n",
        "# Getting a starting point by\n",
        "# randomly configuring the board\n",
        "configureRandomly(board, state)\n",
        "\n",
        "# Do hill climbing on the board obtained\n",
        "hillClimbing(board, state)"
      ]
    }
  ],
  "metadata": {
    "colab": {
      "provenance": []
    },
    "kernelspec": {
      "display_name": "Python 3",
      "name": "python3"
    },
    "language_info": {
      "name": "python"
    }
  },
  "nbformat": 4,
  "nbformat_minor": 0
}